{
 "cells": [
  {
   "cell_type": "code",
   "execution_count": null,
   "metadata": {},
   "outputs": [],
   "source": [
    "import matplotlib.pyplot as plt\n",
    "%matplotlib inline\n",
    "import numpy as np\n",
    "import os\n",
    "import pandas as pd\n",
    "from PIL import Image\n",
    "import torch\n",
    "import torch.nn.functional as F\n",
    "from torch.utils.data import DataLoader\n",
    "import torchvision\n",
    "from torchvision import transforms\n",
    "import urllib\n",
    "#------------------\n",
    "from dataset import RandomTestDataset\n",
    "from resnet_family import resnet20_cifar"
   ]
  },
  {
   "cell_type": "markdown",
   "metadata": {},
   "source": [
    "## Evaluate the confidence of the model on unseen categories"
   ]
  },
  {
   "cell_type": "code",
   "execution_count": null,
   "metadata": {},
   "outputs": [],
   "source": [
    "# image = image.resize((32, 32))\n",
    "transform = transforms.Compose([transforms.Resize((32, 32)), \n",
    "                                       transforms.ToTensor(), \n",
    "                                       transforms.Normalize(mean=[0.491, 0.482, 0.446], std=[0.247, 0.243, 0.261])])\n",
    "seen_classes = RandomTestDataset('./images/seen_cifar10', transform=transform)\n",
    "unseen_classes = RandomTestDataset('./images/unseen_cifar10', transform=transform)\n",
    "seen_dataloader = DataLoader(seen_classes, batch_size=1, shuffle=False)\n",
    "unseen_dataloader = DataLoader(unseen_classes, batch_size=1, shuffle=False)"
   ]
  },
  {
   "cell_type": "code",
   "execution_count": null,
   "metadata": {},
   "outputs": [],
   "source": [
    "labels_cifar10 = ['airplanes', 'cars', 'birds', 'cats', 'deer', 'dogs', 'frogs', 'horses', 'ships', 'trucks']\n",
    "\n",
    "model = resnet20_cifar()\n",
    "model.eval()\n",
    "\n",
    "seen = []\n",
    "unseen = []\n",
    "\n",
    "for i_iter, batch in enumerate(seen_dataloader):\n",
    "    image, file_name = batch\n",
    "    output = model(image)\n",
    "    score, label = F.softmax(output, dim=1).max(1)\n",
    "    full_file_name = os.path.join('./images/seen_cifar10', file_name[0])\n",
    "    seen.append({'fname': full_file_name, 'prediction': labels_cifar10[label], 'score': np.round(score.item(), 3)})\n",
    "    \n",
    "for i_iter, batch in enumerate(unseen_dataloader):\n",
    "    image, file_name = batch\n",
    "    output = model(image)\n",
    "    score, label = F.softmax(output, dim=1).max(1)\n",
    "    full_file_name = os.path.join('./images/unseen_cifar10', file_name[0])\n",
    "    unseen.append({'fname': full_file_name, 'prediction': labels_cifar10[label], 'score': np.round(score.item(), 3)})"
   ]
  },
  {
   "cell_type": "code",
   "execution_count": null,
   "metadata": {},
   "outputs": [],
   "source": [
    "fig, ax = plt.subplots(2, 5, figsize=(16, 8))\n",
    "for i in range(len(seen)):\n",
    "    image = Image.open(seen[i]['fname'])\n",
    "    ax[0, i].imshow(image)\n",
    "    ax[0, i].set_title(f\"{seen[i]['prediction']}, {seen[i]['score']}\")\n",
    "    image = Image.open(unseen[i]['fname'])\n",
    "    ax[1, i].imshow(image)\n",
    "    ax[1, i].set_title(f\"{unseen[i]['prediction']}, {unseen[i]['score']}\")"
   ]
  }
 ],
 "metadata": {
  "kernelspec": {
   "display_name": "nlp",
   "language": "python",
   "name": "nlp"
  },
  "language_info": {
   "codemirror_mode": {
    "name": "ipython",
    "version": 3
   },
   "file_extension": ".py",
   "mimetype": "text/x-python",
   "name": "python",
   "nbconvert_exporter": "python",
   "pygments_lexer": "ipython3",
   "version": "3.6.9"
  }
 },
 "nbformat": 4,
 "nbformat_minor": 2
}
