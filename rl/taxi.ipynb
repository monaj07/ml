{
 "cells": [
  {
   "cell_type": "code",
   "execution_count": null,
   "metadata": {},
   "outputs": [],
   "source": [
    "import numpy as np\n",
    "import gym\n",
    "import random\n",
    "import time\n",
    "import tqdm"
   ]
  },
  {
   "cell_type": "markdown",
   "metadata": {},
   "source": [
    "## Step 1: Create the environment 🕹️\n",
    "- Here we'll create the Taxi-v3 environment 🚕. \n",
    "\n",
    "[Environment]\n",
    "\n",
    "Our environment looks like this: \n",
    "- It's a **5x5 grid world**\n",
    "- Our 🚕 is spawned **randomly** in a square. \n",
    "- The passenger is **spawned randomly in one of the 4 possible locations** (R, B, G, Y) and wishes to go in one of the **4 possibles locations too**.\n",
    "\n",
    "The reward system:\n",
    "- -1 for each timestep\n",
    "- +20 for successfully deliver the passenger\n",
    "- -10 for illegal actions (pickup or putdown the passenger at the outside of the destination)."
   ]
  },
  {
   "cell_type": "code",
   "execution_count": null,
   "metadata": {},
   "outputs": [],
   "source": [
    "env = gym.make('Taxi-v3')\n",
    "env.reset()\n",
    "env.render()"
   ]
  },
  {
   "cell_type": "code",
   "execution_count": null,
   "metadata": {},
   "outputs": [],
   "source": [
    "env.reset()\n",
    "env.step(1)"
   ]
  },
  {
   "cell_type": "code",
   "execution_count": null,
   "metadata": {},
   "outputs": [],
   "source": [
    "env.render()"
   ]
  },
  {
   "cell_type": "markdown",
   "metadata": {},
   "source": [
    "### Read the following description ([reference](https://github.com/openai/gym/blob/master/gym/envs/toy_text/taxi.py))"
   ]
  },
  {
   "cell_type": "markdown",
   "metadata": {},
   "source": [
    "    The Taxi Problem\n",
    "    from \"Hierarchical Reinforcement Learning with the MAXQ Value Function Decomposition\"\n",
    "    by Tom Dietterich\n",
    "    \n",
    "    Description:\n",
    "    There are four designated locations in the grid world indicated by R(ed), G(reen), Y(ellow), and B(lue). When the episode starts, the taxi starts off at a random square and the passenger is at a random location. The taxi drives to the passenger's location, picks up the passenger, drives to the passenger's destination (another one of the four specified locations), and then drops off the passenger. Once the passenger is dropped off, the episode ends.\n",
    "    \n",
    "    Observations:\n",
    "    There are 500 discrete states since there are 25 taxi positions, 5 possible locations of the passenger (including the case when the passenger is in the taxi), and 4 destination locations.\n",
    "    Note that there are 400 states that can actually be reached during an episode. The missing states correspond to situations in which the passenger is at the same location as their destination, as this typically signals the end of an episode.\n",
    "    Four additional states can be observed right after a successful episodes, when both the passenger and the taxi are at the destination.\n",
    "    This gives a total of 404 reachable discrete states.\n",
    "    \n",
    "    Passenger locations:\n",
    "    - 0: R(ed)\n",
    "    - 1: G(reen)\n",
    "    - 2: Y(ellow)\n",
    "    - 3: B(lue)\n",
    "    - 4: in taxi\n",
    "    \n",
    "    Destinations:\n",
    "    - 0: R(ed)\n",
    "    - 1: G(reen)\n",
    "    - 2: Y(ellow)\n",
    "    - 3: B(lue)\n",
    "    \n",
    "    Actions:\n",
    "    There are 6 discrete deterministic actions:\n",
    "    - 0: move south\n",
    "    - 1: move north\n",
    "    - 2: move east\n",
    "    - 3: move west\n",
    "    - 4: pickup passenger\n",
    "    - 5: drop off passenger\n",
    "    \n",
    "    Rewards:\n",
    "    There is a default per-step reward of -1,\n",
    "    except for delivering the passenger, which is +20,\n",
    "    or executing \"pickup\" and \"drop-off\" actions illegally, which is -10.\n",
    "    \n",
    "    Rendering:\n",
    "    - blue: passenger\n",
    "    - magenta: destination\n",
    "    - yellow: empty taxi\n",
    "    - green: full taxi\n",
    "    - other letters (R, G, Y and B): locations for passengers and destinations\n",
    "    \n",
    "    state space is represented by:\n",
    "        (taxi_row, taxi_col, passenger_location, destination)"
   ]
  },
  {
   "cell_type": "markdown",
   "metadata": {},
   "source": [
    "### How to read a state from the Rendering"
   ]
  },
  {
   "attachments": {
    "image.png": {
     "image/png": "[encoded data removed]"
    }
   },
   "cell_type": "markdown",
   "metadata": {},
   "source": [
    "Based on the above description and playing a little bit with the renderer, I realised the grid is represented this way:\n",
    "\n",
    "Starting from the top-left, moving row-wise, and ending to the bottom-right, each cell takes 20 different sub-states (zero to 19), where each sub-state is determined by the location of the passenger (one of the 5 possible options) times ($\\times$) the location of the destination (one of the four options). \n",
    "\n",
    "For example, if we see this rendering:\n",
    "![image.png](attachment:image.png)\n",
    "First of all, the location of the taxi (indicated by yello rectangle) is in the top row and third column, so the state should be between 40 to 59.\n",
    "Then we see that the location of the passenger (indicated by blue color) is in `G` cell, which shows that the sub-state must be ones of {4, 5, 6, 7}, **(e.g. {0, 1, 2, 3} are for the case when passenger is in `R` and destination is in four possible location; Please note the order of the locations in the above description)**. Since the destination (shown by Magenta color) is at `Y` cell, the total sub-state will be 4+2=6.\n",
    "\n",
    "Hence, the full state will be 40+4+2=46.\n",
    "\n",
    "Also note that you can get the current state via:"
   ]
  },
  {
   "cell_type": "code",
   "execution_count": null,
   "metadata": {},
   "outputs": [],
   "source": [
    "env.s"
   ]
  },
  {
   "cell_type": "markdown",
   "metadata": {},
   "source": [
    "## Define the epsilon-greedy policy 🤖\n",
    "\n",
    "Epsilon-Greedy is a policy that handles the exploration/exploitation trade-off\n",
    "\n",
    "Epsilon Greedy:\n",
    "\n",
    "- *With probability 1 - ɛ* : we do **exploitation** (aka our agent selects the action with the highest state-action pair value).\n",
    "\n",
    "- *With probability ɛ*: we do **exploration** (trying random action).\n",
    "\n",
    "And as the training goes, **we progressively reduce the epsilon value** since we will **need less and less exploration and more exploitation**."
   ]
  },
  {
   "cell_type": "markdown",
   "metadata": {},
   "source": [
    "## Step 2: Define the Q-Learning algorithm and train our agent 🧠\n",
    "- Now we implement the Q learning algorithm:\n",
    "[Q-Learning]"
   ]
  },
  {
   "cell_type": "code",
   "execution_count": null,
   "metadata": {},
   "outputs": [],
   "source": [
    "total_episodes = 25000        # Total number of training episodes\n",
    "total_test_episodes = 100     # Total number of test episodes\n",
    "action_str = {0: \"south\", 1: \"north\", 2: \"east\", 3: \"west\", 4: \"pickup\", 5: \"drop\"}\n",
    "\n",
    "class Qlearner:\n",
    "    def __init__(self, env):\n",
    "        # Create the Q-table and initialize it\n",
    "        self.q_table = np.zeros((env.observation_space.n, env.action_space.n))\n",
    "        self.env = env\n",
    "        self.env.reset()\n",
    "        self.is_episode_over = False\n",
    "        self.learning_rate = 0.01  # Learning rate\n",
    "        self.gamma = 0.99  # Discounting rate\n",
    "        self.max_steps = 200  # Max steps per episode\n",
    "        self.epsilon = 1.0  # Exploration probability at start\n",
    "        self.max_epsilon = 1.0  # Exploration probability at start\n",
    "        self.min_epsilon = 0.001  # Minimum exploration probability \n",
    "        self.decay_rate = 0.01  # Exponential decay rate for exploration prob\n",
    "        \n",
    "    def get_epsilon_greedy_action(self):\n",
    "        z = random.uniform(0, 1)\n",
    "        if z <= self.epsilon:\n",
    "            action = np.random.choice(self.q_table.shape[1])\n",
    "            # OR: action = env.action_space.sample()\n",
    "        else:\n",
    "            action = np.argmax(self.q_table[self.env.s, :])\n",
    "        return action\n",
    "    \n",
    "    def train(self, total_episodes=total_episodes):\n",
    "        episode_reward = 0\n",
    "        pbar = tqdm.tqdm(range(total_episodes))\n",
    "        for episode in pbar:\n",
    "            if not (episode % 100):\n",
    "                pbar.set_description(f'sample episode_reward= {episode_reward}')\n",
    "            self.env.reset()\n",
    "            episode_reward = self.run_training_episode()\n",
    "            self.epsilon = self.min_epsilon + (self.max_epsilon - self.min_epsilon) * np.exp(-self.decay_rate * episode)\n",
    "            \n",
    "    def run_training_episode(self):\n",
    "        episode_reward = 0\n",
    "        for n in range(self.max_steps):\n",
    "            action = self.get_epsilon_greedy_action()\n",
    "            current_state = self.env.s\n",
    "            next_state, next_reward, is_episode_over, _ = self.env.step(action)\n",
    "            episode_reward += next_reward\n",
    "            next_state_max_value = self.q_table[next_state, :].max()\n",
    "            # Update the q_table\n",
    "            step = next_reward + self.gamma * next_state_max_value - self.q_table[current_state, action]\n",
    "            self.q_table[current_state, action] += self.learning_rate * step\n",
    "            if is_episode_over:\n",
    "                return episode_reward\n",
    "        return episode_reward\n",
    "    \n",
    "    def test(self, total_test_episodes=total_test_episodes):\n",
    "        for episode in range(total_test_episodes):\n",
    "            self.env.reset()\n",
    "            # self.env.render()\n",
    "            episode_reward = self.run_test_episode()\n",
    "            # self.env.render()\n",
    "            print(f'episode_reward = {episode_reward}')\n",
    "            print('---------------------------------\\n')\n",
    "            time.sleep(2)\n",
    "            \n",
    "    def run_test_episode(self):\n",
    "        episode_reward = 0\n",
    "        for _ in range(self.max_steps):\n",
    "            # Display the traveling taxi:\n",
    "            self.env.render()\n",
    "            action = np.argmax(self.q_table[self.env.s, :])\n",
    "            next_state, next_reward, is_episode_over, _ = self.env.step(action)\n",
    "            episode_reward += next_reward\n",
    "            if is_episode_over:\n",
    "                return episode_reward\n",
    "        return episode_reward"
   ]
  },
  {
   "cell_type": "markdown",
   "metadata": {},
   "source": [
    "### Q-learner Instatiation and Training"
   ]
  },
  {
   "cell_type": "code",
   "execution_count": null,
   "metadata": {},
   "outputs": [],
   "source": [
    "qlearner = Qlearner(env)\n",
    "qlearner.train(total_episodes)"
   ]
  },
  {
   "cell_type": "markdown",
   "metadata": {},
   "source": [
    "### Inference"
   ]
  },
  {
   "cell_type": "code",
   "execution_count": null,
   "metadata": {},
   "outputs": [],
   "source": [
    "qlearner.test(5)"
   ]
  }
 ],
 "metadata": {
  "kernelspec": {
   "display_name": "backup_tflow",
   "language": "python",
   "name": "backup_tflow"
  },
  "language_info": {
   "codemirror_mode": {
    "name": "ipython",
    "version": 3
   },
   "file_extension": ".py",
   "mimetype": "text/x-python",
   "name": "python",
   "nbconvert_exporter": "python",
   "pygments_lexer": "ipython3",
   "version": "3.6.10"
  }
 },
 "nbformat": 4,
 "nbformat_minor": 1
}
