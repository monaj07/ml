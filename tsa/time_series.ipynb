{
 "cells": [
  {
   "cell_type": "code",
   "execution_count": 1,
   "metadata": {
    "cellView": "form",
    "colab": {},
    "colab_type": "code",
    "id": "b-2ShX25yNWf"
   },
   "outputs": [],
   "source": [
    "# The aim of this notebook is to reproduce the outputs of the following notebook in Pytorch:\n",
    "# https://www.tensorflow.org/tutorials/structured_data/time_series\n",
    "# Some of the markdown comments are borrowed from the original notebook."
   ]
  },
  {
   "cell_type": "code",
   "execution_count": 2,
   "metadata": {
    "colab": {},
    "colab_type": "code",
    "id": "7rZnJaGTWQw0"
   },
   "outputs": [],
   "source": [
    "import os\n",
    "import datetime\n",
    "\n",
    "import IPython\n",
    "import IPython.display\n",
    "import matplotlib as mpl\n",
    "import matplotlib.pyplot as plt\n",
    "import numpy as np\n",
    "import pandas as pd\n",
    "import seaborn as sns\n",
    "import sys\n",
    "from zipfile import ZipFile\n",
    "\n",
    "import torch\n",
    "import torch.nn as nn\n",
    "import torch.nn.functional as F\n",
    "from torch.utils.data import DataLoader\n",
    "#------------------\n",
    "sys.path.append(\"..\")\n",
    "from scripts.dataset import TimeSeriesDatasetMature\n",
    "\n",
    "mpl.rcParams['figure.figsize'] = (8, 6)\n",
    "mpl.rcParams['axes.grid'] = False"
   ]
  },
  {
   "cell_type": "markdown",
   "metadata": {
    "colab_type": "text",
    "id": "TokBlnUhWFw9"
   },
   "source": [
    "## The weather dataset\n",
    "This tutorial uses a <a href=\"https://www.bgc-jena.mpg.de/wetter/\" class=\"external\">weather time series dataset</a> recorded by the <a href=\"https://www.bgc-jena.mpg.de\" class=\"external\">Max Planck Institute for Biogeochemistry</a>.\n",
    "\n",
    "This dataset contains 14 different features such as air temperature, atmospheric pressure, and humidity. These were collected every 10 minutes, beginning in 2003. For efficiency, you will use only the data collected between 2009 and 2016. This section of the dataset was prepared by François Chollet for his book [Deep Learning with Python](https://www.manning.com/books/deep-learning-with-python)."
   ]
  },
  {
   "cell_type": "code",
   "execution_count": 3,
   "metadata": {
    "colab": {},
    "colab_type": "code",
    "id": "xyv_i85IWInT"
   },
   "outputs": [],
   "source": [
    "if not os.path.exists('data/jena_climate_2009_2016.csv'):\n",
    "    !curl -o data/jena_climate_2009_2016.csv.zip https://storage.googleapis.com/tensorflow/tf-keras-datasets/jena_climate_2009_2016.csv.zip\n",
    "    with ZipFile('data/jena_climate_2009_2016.csv.zip', 'r') as zf:\n",
    "        zf.extractall('data/')"
   ]
  },
  {
   "cell_type": "markdown",
   "metadata": {
    "colab_type": "text",
    "id": "R81Wx8WP4c3G"
   },
   "source": [
    "This tutorial will just deal with **hourly predictions**, so start by sub-sampling the data from 10 minute intervals to 1h:"
   ]
  },
  {
   "cell_type": "code",
   "execution_count": 4,
   "metadata": {
    "colab": {},
    "colab_type": "code",
    "id": "TX6uGeeeWIkG"
   },
   "outputs": [],
   "source": [
    "df = pd.read_csv('data/jena_climate_2009_2016.csv')\n",
    "# slice [start:stop:step], starting from index 5 take every 6th record.\n",
    "df = df[5::6]\n",
    "\n",
    "date_time = pd.to_datetime(df.pop('Date Time'), format='%d.%m.%Y %H:%M:%S')"
   ]
  },
  {
   "cell_type": "markdown",
   "metadata": {
    "colab_type": "text",
    "id": "VdbOWXiTWM2T"
   },
   "source": [
    "Let's take a glance at the data. Here are the first few rows:"
   ]
  },
  {
   "cell_type": "code",
   "execution_count": 5,
   "metadata": {
    "colab": {},
    "colab_type": "code",
    "id": "ojHE-iCCWIhz"
   },
   "outputs": [
    {
     "data": {
      "text/html": [
       "<div>\n",
       "<style scoped>\n",
       "    .dataframe tbody tr th:only-of-type {\n",
       "        vertical-align: middle;\n",
       "    }\n",
       "\n",
       "    .dataframe tbody tr th {\n",
       "        vertical-align: top;\n",
       "    }\n",
       "\n",
       "    .dataframe thead th {\n",
       "        text-align: right;\n",
       "    }\n",
       "</style>\n",
       "<table border=\"1\" class=\"dataframe\">\n",
       "  <thead>\n",
       "    <tr style=\"text-align: right;\">\n",
       "      <th></th>\n",
       "      <th>p (mbar)</th>\n",
       "      <th>T (degC)</th>\n",
       "      <th>Tpot (K)</th>\n",
       "      <th>Tdew (degC)</th>\n",
       "      <th>rh (%)</th>\n",
       "      <th>VPmax (mbar)</th>\n",
       "      <th>VPact (mbar)</th>\n",
       "      <th>VPdef (mbar)</th>\n",
       "      <th>sh (g/kg)</th>\n",
       "      <th>H2OC (mmol/mol)</th>\n",
       "      <th>rho (g/m**3)</th>\n",
       "      <th>wv (m/s)</th>\n",
       "      <th>max. wv (m/s)</th>\n",
       "      <th>wd (deg)</th>\n",
       "    </tr>\n",
       "  </thead>\n",
       "  <tbody>\n",
       "    <tr>\n",
       "      <th>5</th>\n",
       "      <td>996.50</td>\n",
       "      <td>-8.05</td>\n",
       "      <td>265.38</td>\n",
       "      <td>-8.78</td>\n",
       "      <td>94.4</td>\n",
       "      <td>3.33</td>\n",
       "      <td>3.14</td>\n",
       "      <td>0.19</td>\n",
       "      <td>1.96</td>\n",
       "      <td>3.15</td>\n",
       "      <td>1307.86</td>\n",
       "      <td>0.21</td>\n",
       "      <td>0.63</td>\n",
       "      <td>192.7</td>\n",
       "    </tr>\n",
       "    <tr>\n",
       "      <th>11</th>\n",
       "      <td>996.62</td>\n",
       "      <td>-8.88</td>\n",
       "      <td>264.54</td>\n",
       "      <td>-9.77</td>\n",
       "      <td>93.2</td>\n",
       "      <td>3.12</td>\n",
       "      <td>2.90</td>\n",
       "      <td>0.21</td>\n",
       "      <td>1.81</td>\n",
       "      <td>2.91</td>\n",
       "      <td>1312.25</td>\n",
       "      <td>0.25</td>\n",
       "      <td>0.63</td>\n",
       "      <td>190.3</td>\n",
       "    </tr>\n",
       "    <tr>\n",
       "      <th>17</th>\n",
       "      <td>996.84</td>\n",
       "      <td>-8.81</td>\n",
       "      <td>264.59</td>\n",
       "      <td>-9.66</td>\n",
       "      <td>93.5</td>\n",
       "      <td>3.13</td>\n",
       "      <td>2.93</td>\n",
       "      <td>0.20</td>\n",
       "      <td>1.83</td>\n",
       "      <td>2.94</td>\n",
       "      <td>1312.18</td>\n",
       "      <td>0.18</td>\n",
       "      <td>0.63</td>\n",
       "      <td>167.2</td>\n",
       "    </tr>\n",
       "    <tr>\n",
       "      <th>23</th>\n",
       "      <td>996.99</td>\n",
       "      <td>-9.05</td>\n",
       "      <td>264.34</td>\n",
       "      <td>-10.02</td>\n",
       "      <td>92.6</td>\n",
       "      <td>3.07</td>\n",
       "      <td>2.85</td>\n",
       "      <td>0.23</td>\n",
       "      <td>1.78</td>\n",
       "      <td>2.85</td>\n",
       "      <td>1313.61</td>\n",
       "      <td>0.10</td>\n",
       "      <td>0.38</td>\n",
       "      <td>240.0</td>\n",
       "    </tr>\n",
       "    <tr>\n",
       "      <th>29</th>\n",
       "      <td>997.46</td>\n",
       "      <td>-9.63</td>\n",
       "      <td>263.72</td>\n",
       "      <td>-10.65</td>\n",
       "      <td>92.2</td>\n",
       "      <td>2.94</td>\n",
       "      <td>2.71</td>\n",
       "      <td>0.23</td>\n",
       "      <td>1.69</td>\n",
       "      <td>2.71</td>\n",
       "      <td>1317.19</td>\n",
       "      <td>0.40</td>\n",
       "      <td>0.88</td>\n",
       "      <td>157.0</td>\n",
       "    </tr>\n",
       "  </tbody>\n",
       "</table>\n",
       "</div>"
      ],
      "text/plain": [
       "    p (mbar)  T (degC)  Tpot (K)  Tdew (degC)  rh (%)  VPmax (mbar)  \\\n",
       "5     996.50     -8.05    265.38        -8.78    94.4          3.33   \n",
       "11    996.62     -8.88    264.54        -9.77    93.2          3.12   \n",
       "17    996.84     -8.81    264.59        -9.66    93.5          3.13   \n",
       "23    996.99     -9.05    264.34       -10.02    92.6          3.07   \n",
       "29    997.46     -9.63    263.72       -10.65    92.2          2.94   \n",
       "\n",
       "    VPact (mbar)  VPdef (mbar)  sh (g/kg)  H2OC (mmol/mol)  rho (g/m**3)  \\\n",
       "5           3.14          0.19       1.96             3.15       1307.86   \n",
       "11          2.90          0.21       1.81             2.91       1312.25   \n",
       "17          2.93          0.20       1.83             2.94       1312.18   \n",
       "23          2.85          0.23       1.78             2.85       1313.61   \n",
       "29          2.71          0.23       1.69             2.71       1317.19   \n",
       "\n",
       "    wv (m/s)  max. wv (m/s)  wd (deg)  \n",
       "5       0.21           0.63     192.7  \n",
       "11      0.25           0.63     190.3  \n",
       "17      0.18           0.63     167.2  \n",
       "23      0.10           0.38     240.0  \n",
       "29      0.40           0.88     157.0  "
      ]
     },
     "execution_count": 5,
     "metadata": {},
     "output_type": "execute_result"
    }
   ],
   "source": [
    "df.head()"
   ]
  },
  {
   "cell_type": "markdown",
   "metadata": {
    "colab_type": "text",
    "id": "WRzj1inMfgcO"
   },
   "source": [
    "Here is the evolution of a few features over time. "
   ]
  },
  {
   "cell_type": "code",
   "execution_count": 6,
   "metadata": {
    "colab": {},
    "colab_type": "code",
    "id": "Vg5XIc5tfNlG"
   },
   "outputs": [
    {
     "data": {
      "image/png": "[encoded data removed]",
      "text/plain": [
       "<Figure size 576x432 with 3 Axes>"
      ]
     },
     "metadata": {
      "needs_background": "light"
     },
     "output_type": "display_data"
    },
    {
     "data": {
      "image/png": "[encoded data removed]",
      "text/plain": [
       "<Figure size 576x432 with 3 Axes>"
      ]
     },
     "metadata": {
      "needs_background": "light"
     },
     "output_type": "display_data"
    }
   ],
   "source": [
    "plot_cols = ['T (degC)', 'p (mbar)', 'rho (g/m**3)']\n",
    "plot_features = df[plot_cols]\n",
    "plot_features.index = date_time\n",
    "_ = plot_features.plot(subplots=True)\n",
    "\n",
    "plot_features = df[plot_cols][:480]\n",
    "plot_features.index = date_time[:480]\n",
    "_ = plot_features.plot(subplots=True)"
   ]
  },
  {
   "cell_type": "markdown",
   "metadata": {
    "colab_type": "text",
    "id": "wXWLG0_WBhZS"
   },
   "source": [
    "### Inspect and cleanup"
   ]
  },
  {
   "cell_type": "markdown",
   "metadata": {
    "colab_type": "text",
    "id": "yhmZXJew6GlS"
   },
   "source": [
    "Next look at the statistics of the dataset:"
   ]
  },
  {
   "cell_type": "code",
   "execution_count": 7,
   "metadata": {
    "colab": {},
    "colab_type": "code",
    "id": "h510pgKVrrai"
   },
   "outputs": [
    {
     "data": {
      "text/html": [
       "<div>\n",
       "<style scoped>\n",
       "    .dataframe tbody tr th:only-of-type {\n",
       "        vertical-align: middle;\n",
       "    }\n",
       "\n",
       "    .dataframe tbody tr th {\n",
       "        vertical-align: top;\n",
       "    }\n",
       "\n",
       "    .dataframe thead th {\n",
       "        text-align: right;\n",
       "    }\n",
       "</style>\n",
       "<table border=\"1\" class=\"dataframe\">\n",
       "  <thead>\n",
       "    <tr style=\"text-align: right;\">\n",
       "      <th></th>\n",
       "      <th>count</th>\n",
       "      <th>mean</th>\n",
       "      <th>std</th>\n",
       "      <th>min</th>\n",
       "      <th>25%</th>\n",
       "      <th>50%</th>\n",
       "      <th>75%</th>\n",
       "      <th>max</th>\n",
       "    </tr>\n",
       "  </thead>\n",
       "  <tbody>\n",
       "    <tr>\n",
       "      <th>p (mbar)</th>\n",
       "      <td>70091.0</td>\n",
       "      <td>989.212842</td>\n",
       "      <td>8.358886</td>\n",
       "      <td>913.60</td>\n",
       "      <td>984.20</td>\n",
       "      <td>989.57</td>\n",
       "      <td>994.720</td>\n",
       "      <td>1015.29</td>\n",
       "    </tr>\n",
       "    <tr>\n",
       "      <th>T (degC)</th>\n",
       "      <td>70091.0</td>\n",
       "      <td>9.450482</td>\n",
       "      <td>8.423384</td>\n",
       "      <td>-22.76</td>\n",
       "      <td>3.35</td>\n",
       "      <td>9.41</td>\n",
       "      <td>15.480</td>\n",
       "      <td>37.28</td>\n",
       "    </tr>\n",
       "    <tr>\n",
       "      <th>Tpot (K)</th>\n",
       "      <td>70091.0</td>\n",
       "      <td>283.493086</td>\n",
       "      <td>8.504424</td>\n",
       "      <td>250.85</td>\n",
       "      <td>277.44</td>\n",
       "      <td>283.46</td>\n",
       "      <td>289.530</td>\n",
       "      <td>311.21</td>\n",
       "    </tr>\n",
       "    <tr>\n",
       "      <th>Tdew (degC)</th>\n",
       "      <td>70091.0</td>\n",
       "      <td>4.956471</td>\n",
       "      <td>6.730081</td>\n",
       "      <td>-24.80</td>\n",
       "      <td>0.24</td>\n",
       "      <td>5.21</td>\n",
       "      <td>10.080</td>\n",
       "      <td>23.06</td>\n",
       "    </tr>\n",
       "    <tr>\n",
       "      <th>rh (%)</th>\n",
       "      <td>70091.0</td>\n",
       "      <td>76.009788</td>\n",
       "      <td>16.474920</td>\n",
       "      <td>13.88</td>\n",
       "      <td>65.21</td>\n",
       "      <td>79.30</td>\n",
       "      <td>89.400</td>\n",
       "      <td>100.00</td>\n",
       "    </tr>\n",
       "    <tr>\n",
       "      <th>VPmax (mbar)</th>\n",
       "      <td>70091.0</td>\n",
       "      <td>13.576576</td>\n",
       "      <td>7.739883</td>\n",
       "      <td>0.97</td>\n",
       "      <td>7.77</td>\n",
       "      <td>11.82</td>\n",
       "      <td>17.610</td>\n",
       "      <td>63.77</td>\n",
       "    </tr>\n",
       "    <tr>\n",
       "      <th>VPact (mbar)</th>\n",
       "      <td>70091.0</td>\n",
       "      <td>9.533968</td>\n",
       "      <td>4.183658</td>\n",
       "      <td>0.81</td>\n",
       "      <td>6.22</td>\n",
       "      <td>8.86</td>\n",
       "      <td>12.360</td>\n",
       "      <td>28.25</td>\n",
       "    </tr>\n",
       "    <tr>\n",
       "      <th>VPdef (mbar)</th>\n",
       "      <td>70091.0</td>\n",
       "      <td>4.042536</td>\n",
       "      <td>4.898549</td>\n",
       "      <td>0.00</td>\n",
       "      <td>0.87</td>\n",
       "      <td>2.19</td>\n",
       "      <td>5.300</td>\n",
       "      <td>46.01</td>\n",
       "    </tr>\n",
       "    <tr>\n",
       "      <th>sh (g/kg)</th>\n",
       "      <td>70091.0</td>\n",
       "      <td>6.022560</td>\n",
       "      <td>2.655812</td>\n",
       "      <td>0.51</td>\n",
       "      <td>3.92</td>\n",
       "      <td>5.59</td>\n",
       "      <td>7.800</td>\n",
       "      <td>18.07</td>\n",
       "    </tr>\n",
       "    <tr>\n",
       "      <th>H2OC (mmol/mol)</th>\n",
       "      <td>70091.0</td>\n",
       "      <td>9.640437</td>\n",
       "      <td>4.234862</td>\n",
       "      <td>0.81</td>\n",
       "      <td>6.29</td>\n",
       "      <td>8.96</td>\n",
       "      <td>12.490</td>\n",
       "      <td>28.74</td>\n",
       "    </tr>\n",
       "    <tr>\n",
       "      <th>rho (g/m**3)</th>\n",
       "      <td>70091.0</td>\n",
       "      <td>1216.061232</td>\n",
       "      <td>39.974263</td>\n",
       "      <td>1059.45</td>\n",
       "      <td>1187.47</td>\n",
       "      <td>1213.80</td>\n",
       "      <td>1242.765</td>\n",
       "      <td>1393.54</td>\n",
       "    </tr>\n",
       "    <tr>\n",
       "      <th>wv (m/s)</th>\n",
       "      <td>70091.0</td>\n",
       "      <td>1.702567</td>\n",
       "      <td>65.447512</td>\n",
       "      <td>-9999.00</td>\n",
       "      <td>0.99</td>\n",
       "      <td>1.76</td>\n",
       "      <td>2.860</td>\n",
       "      <td>14.01</td>\n",
       "    </tr>\n",
       "    <tr>\n",
       "      <th>max. wv (m/s)</th>\n",
       "      <td>70091.0</td>\n",
       "      <td>2.963041</td>\n",
       "      <td>75.597657</td>\n",
       "      <td>-9999.00</td>\n",
       "      <td>1.76</td>\n",
       "      <td>2.98</td>\n",
       "      <td>4.740</td>\n",
       "      <td>23.50</td>\n",
       "    </tr>\n",
       "    <tr>\n",
       "      <th>wd (deg)</th>\n",
       "      <td>70091.0</td>\n",
       "      <td>174.789095</td>\n",
       "      <td>86.619431</td>\n",
       "      <td>0.00</td>\n",
       "      <td>125.30</td>\n",
       "      <td>198.10</td>\n",
       "      <td>234.000</td>\n",
       "      <td>360.00</td>\n",
       "    </tr>\n",
       "  </tbody>\n",
       "</table>\n",
       "</div>"
      ],
      "text/plain": [
       "                   count         mean        std      min      25%      50%  \\\n",
       "p (mbar)         70091.0   989.212842   8.358886   913.60   984.20   989.57   \n",
       "T (degC)         70091.0     9.450482   8.423384   -22.76     3.35     9.41   \n",
       "Tpot (K)         70091.0   283.493086   8.504424   250.85   277.44   283.46   \n",
       "Tdew (degC)      70091.0     4.956471   6.730081   -24.80     0.24     5.21   \n",
       "rh (%)           70091.0    76.009788  16.474920    13.88    65.21    79.30   \n",
       "VPmax (mbar)     70091.0    13.576576   7.739883     0.97     7.77    11.82   \n",
       "VPact (mbar)     70091.0     9.533968   4.183658     0.81     6.22     8.86   \n",
       "VPdef (mbar)     70091.0     4.042536   4.898549     0.00     0.87     2.19   \n",
       "sh (g/kg)        70091.0     6.022560   2.655812     0.51     3.92     5.59   \n",
       "H2OC (mmol/mol)  70091.0     9.640437   4.234862     0.81     6.29     8.96   \n",
       "rho (g/m**3)     70091.0  1216.061232  39.974263  1059.45  1187.47  1213.80   \n",
       "wv (m/s)         70091.0     1.702567  65.447512 -9999.00     0.99     1.76   \n",
       "max. wv (m/s)    70091.0     2.963041  75.597657 -9999.00     1.76     2.98   \n",
       "wd (deg)         70091.0   174.789095  86.619431     0.00   125.30   198.10   \n",
       "\n",
       "                      75%      max  \n",
       "p (mbar)          994.720  1015.29  \n",
       "T (degC)           15.480    37.28  \n",
       "Tpot (K)          289.530   311.21  \n",
       "Tdew (degC)        10.080    23.06  \n",
       "rh (%)             89.400   100.00  \n",
       "VPmax (mbar)       17.610    63.77  \n",
       "VPact (mbar)       12.360    28.25  \n",
       "VPdef (mbar)        5.300    46.01  \n",
       "sh (g/kg)           7.800    18.07  \n",
       "H2OC (mmol/mol)    12.490    28.74  \n",
       "rho (g/m**3)     1242.765  1393.54  \n",
       "wv (m/s)            2.860    14.01  \n",
       "max. wv (m/s)       4.740    23.50  \n",
       "wd (deg)          234.000   360.00  "
      ]
     },
     "execution_count": 7,
     "metadata": {},
     "output_type": "execute_result"
    }
   ],
   "source": [
    "df.describe().transpose()"
   ]
  },
  {
   "cell_type": "markdown",
   "metadata": {
    "colab_type": "text",
    "id": "TzOTnWOoWMGK"
   },
   "source": [
    "#### Wind velocity"
   ]
  },
  {
   "cell_type": "markdown",
   "metadata": {
    "colab_type": "text",
    "id": "i47LiW5DCVsP"
   },
   "source": [
    "One thing that should stand out is the `min` value of the wind velocity, `wv (m/s)` and `max. wv (m/s)` columns. This `-9999` is likely erroneous. There's a separate wind direction column, so the velocity should be `>=0`. Replace it with zeros:\n"
   ]
  },
  {
   "cell_type": "code",
   "execution_count": 8,
   "metadata": {
    "colab": {},
    "colab_type": "code",
    "id": "qFOq0_80vF4d"
   },
   "outputs": [
    {
     "data": {
      "text/plain": [
       "0.0"
      ]
     },
     "execution_count": 8,
     "metadata": {},
     "output_type": "execute_result"
    }
   ],
   "source": [
    "wv = df['wv (m/s)']\n",
    "bad_wv = wv == -9999.0\n",
    "wv[bad_wv] = 0.0\n",
    "\n",
    "max_wv = df['max. wv (m/s)']\n",
    "bad_max_wv = max_wv == -9999.0\n",
    "max_wv[bad_max_wv] = 0.0\n",
    "\n",
    "# The above inplace edits are reflected in the DataFrame\n",
    "df['wv (m/s)'].min()"
   ]
  },
  {
   "cell_type": "markdown",
   "metadata": {
    "colab_type": "text",
    "id": "vtmu2IBPgPG8"
   },
   "source": [
    "### Feature engineering\n",
    "\n",
    "Before diving in to build a model it's important to understand your data, and be sure that you're passing the model appropriately formatted data."
   ]
  },
  {
   "cell_type": "markdown",
   "metadata": {
    "colab_type": "text",
    "id": "FYyEaqiD6j4s"
   },
   "source": [
    "#### Wind\n",
    "The last column of the data, `wd (deg)`, gives the wind direction in units of degrees. Angles do not make good model inputs, 360° and 0° should be close to each other, and wrap around smoothly. Direction shouldn't matter if the wind is not blowing. "
   ]
  },
  {
   "cell_type": "markdown",
   "metadata": {
    "colab_type": "text",
    "id": "yWnf5dwMU1_g"
   },
   "source": [
    "This will be easier for the model to interpret if you convert the wind direction and velocity columns to a wind **vector**:"
   ]
  },
  {
   "cell_type": "code",
   "execution_count": 9,
   "metadata": {
    "colab": {},
    "colab_type": "code",
    "id": "6GmSTHXw6lI1"
   },
   "outputs": [],
   "source": [
    "wv = df.pop('wv (m/s)')\n",
    "max_wv = df.pop('max. wv (m/s)')\n",
    "\n",
    "# Convert to radians.\n",
    "wd_rad = df.pop('wd (deg)')*np.pi / 180\n",
    "\n",
    "# Calculate the wind x and y components.\n",
    "df['Wx'] = wv*np.cos(wd_rad)\n",
    "df['Wy'] = wv*np.sin(wd_rad)\n",
    "\n",
    "# Calculate the max wind x and y components.\n",
    "df['max Wx'] = max_wv*np.cos(wd_rad)\n",
    "df['max Wy'] = max_wv*np.sin(wd_rad)"
   ]
  },
  {
   "cell_type": "markdown",
   "metadata": {
    "colab_type": "text",
    "id": "_8im1ttOWlRB"
   },
   "source": [
    "#### Time"
   ]
  },
  {
   "cell_type": "markdown",
   "metadata": {
    "colab_type": "text",
    "id": "7YE21HKK40zQ"
   },
   "source": [
    "Similarly the `Date Time` column is very useful, but not in this string form. Start by converting it to seconds:"
   ]
  },
  {
   "cell_type": "code",
   "execution_count": 10,
   "metadata": {
    "colab": {},
    "colab_type": "code",
    "id": "LIFf-VjMfnh3"
   },
   "outputs": [],
   "source": [
    "timestamp_s = date_time.map(datetime.datetime.timestamp)"
   ]
  },
  {
   "cell_type": "code",
   "execution_count": 11,
   "metadata": {
    "colab": {},
    "colab_type": "code",
    "id": "MBfX6CDwax73"
   },
   "outputs": [],
   "source": [
    "day = 24*60*60\n",
    "year = (365.2425)*day\n",
    "\n",
    "df['Day sin'] = np.sin(timestamp_s * (2 * np.pi / day))\n",
    "df['Day cos'] = np.cos(timestamp_s * (2 * np.pi / day))\n",
    "df['Year sin'] = np.sin(timestamp_s * (2 * np.pi / year))\n",
    "df['Year cos'] = np.cos(timestamp_s * (2 * np.pi / year))"
   ]
  },
  {
   "cell_type": "markdown",
   "metadata": {
    "colab_type": "text",
    "id": "2rbL8bSGDHy3"
   },
   "source": [
    "### Split the data"
   ]
  },
  {
   "cell_type": "code",
   "execution_count": 12,
   "metadata": {
    "colab": {},
    "colab_type": "code",
    "id": "ia-MPAHxbInX"
   },
   "outputs": [],
   "source": [
    "column_indices = {name: i for i, name in enumerate(df.columns)}\n",
    "\n",
    "n = len(df)\n",
    "train_df = df[0:int(n*0.7)]\n",
    "val_df = df[int(n*0.7):int(n*0.9)]\n",
    "test_df = df[int(n*0.9):]\n",
    "\n",
    "num_features = df.shape[1]"
   ]
  },
  {
   "cell_type": "markdown",
   "metadata": {
    "colab_type": "text",
    "id": "-eFckdUUHWmT"
   },
   "source": [
    "### Normalize the data\n",
    "\n",
    "It is important to scale features before training a neural network. Normalization is a common way of doing this scaling. Subtract the mean and divide by the standard deviation of each feature."
   ]
  },
  {
   "cell_type": "code",
   "execution_count": 13,
   "metadata": {
    "colab": {},
    "colab_type": "code",
    "id": "Eji6njXvHusN"
   },
   "outputs": [],
   "source": [
    "train_mean = train_df.mean()\n",
    "train_std = train_df.std()\n",
    "\n",
    "train_df = (train_df - train_mean) / train_std\n",
    "val_df = (val_df - train_mean) / train_std\n",
    "test_df = (test_df - train_mean) / train_std"
   ]
  },
  {
   "cell_type": "markdown",
   "metadata": {
    "colab_type": "text",
    "id": "G6ufs8kk9JQw"
   },
   "source": [
    "Now peek at the distribution of the features. Some features do have long tails, but there are no obvious errors like the `-9999` wind velocity value."
   ]
  },
  {
   "cell_type": "code",
   "execution_count": 14,
   "metadata": {
    "colab": {},
    "colab_type": "code",
    "id": "T0UYEnkwm8Fe"
   },
   "outputs": [
    {
     "data": {
      "image/png": "[encoded data removed]",
      "text/plain": [
       "<Figure size 864x432 with 1 Axes>"
      ]
     },
     "metadata": {
      "needs_background": "light"
     },
     "output_type": "display_data"
    }
   ],
   "source": [
    "df_std = (df - train_mean) / train_std\n",
    "df_std = df_std.melt(var_name='Column', value_name='Normalized')\n",
    "plt.figure(figsize=(12, 6))\n",
    "ax = sns.violinplot(x='Column', y='Normalized', data=df_std)\n",
    "_ = ax.set_xticklabels(df.keys(), rotation=90)"
   ]
  },
  {
   "cell_type": "markdown",
   "metadata": {
    "colab_type": "text",
    "id": "rfx3jGjyziUF"
   },
   "source": [
    "# Build the dataset"
   ]
  },
  {
   "cell_type": "code",
   "execution_count": 15,
   "metadata": {},
   "outputs": [],
   "source": [
    "input_width = 6\n",
    "label_width = 4\n",
    "shift = 6\n",
    "batch_size = 16\n",
    "feature_columns=['p (mbar)', 'rho (g/m**3)']\n",
    "label_columns=['T (degC)']\n",
    "window_size = input_width + shift"
   ]
  },
  {
   "cell_type": "code",
   "execution_count": 16,
   "metadata": {
    "colab": {},
    "colab_type": "code",
    "id": "Kem30j8QHxyW"
   },
   "outputs": [
    {
     "data": {
      "text/plain": [
       "3066"
      ]
     },
     "execution_count": 16,
     "metadata": {},
     "output_type": "execute_result"
    }
   ],
   "source": [
    "time_Series_dataset = TimeSeriesDatasetMature(train_df, input_width=input_width, label_width=label_width, \n",
    "                                              shift=shift, feature_columns=feature_columns,\n",
    "                                              label_columns=label_columns)\n",
    "trainloader = DataLoader(time_Series_dataset, batch_size=batch_size, shuffle=True)\n",
    "len(trainloader)"
   ]
  },
  {
   "cell_type": "code",
   "execution_count": 17,
   "metadata": {
    "colab": {},
    "colab_type": "code",
    "id": "IsM5kRkz0UwK"
   },
   "outputs": [
    {
     "name": "stdout",
     "output_type": "stream",
     "text": [
      "torch.Size([16, 12, 2]) torch.Size([16, 6, 1]) torch.Size([16, 4, 1])\n"
     ]
    },
    {
     "data": {
      "image/png": "[encoded data removed]",
      "text/plain": [
       "<Figure size 576x432 with 1 Axes>"
      ]
     },
     "metadata": {
      "needs_background": "light"
     },
     "output_type": "display_data"
    }
   ],
   "source": [
    "(signal, past_labels, targets) = next(iter(trainloader))\n",
    "print(signal.size(), past_labels.size(), targets.size())\n",
    "sample_idx = 0\n",
    "# plot the past labels in the sample [sample_idx] from the minibatch\n",
    "plt.plot(range(0, input_width), past_labels[sample_idx].data.numpy(), \n",
    "         color='b', linestyle='dashed', label='past labels')\n",
    "# plot the target label in the sample sample_idx from the minibatch\n",
    "plt.plot(range(window_size - label_width, window_size), targets[sample_idx].data.numpy(), \n",
    "         color='g', linestyle='dashed', label='target labels')\n",
    "# plot some other extra regressors\n",
    "plt.plot(signal[sample_idx, :, 0].view(-1).data.numpy(), color='k', label='regressor 0')  \n",
    "plt.plot(signal[sample_idx, :, 1].view(-1).data.numpy(), color='r', label='regressor 1')   \n",
    "plt.legend();"
   ]
  },
  {
   "cell_type": "markdown",
   "metadata": {},
   "source": [
    "# Forecating Models"
   ]
  },
  {
   "cell_type": "markdown",
   "metadata": {},
   "source": [
    "## Many-to-Many mapping using Conv1D and Linear layers"
   ]
  },
  {
   "cell_type": "code",
   "execution_count": 18,
   "metadata": {},
   "outputs": [],
   "source": [
    "class TSA_many_to_many_conv(nn.Module):\n",
    "    def __init__(self, label_width, in_channels, window_length):\n",
    "        super().__init__()\n",
    "        layers = []\n",
    "        layers.append(nn.Conv1d(in_channels=in_channels, out_channels=32, kernel_size=3, padding=1))\n",
    "        layers.append(nn.ReLU6())\n",
    "        layers.append(nn.BatchNorm1d(32))\n",
    "        layers.append(nn.Dropout(0.1))\n",
    "        layers.append(nn.Flatten(1))\n",
    "        layers.append(nn.Linear(in_features=32*window_length, out_features=32))\n",
    "        layers.append(nn.ReLU6())\n",
    "        layers.append(nn.BatchNorm1d(32))\n",
    "        layers.append(nn.Dropout(0.1))\n",
    "        layers.append(nn.Linear(in_features=32, out_features=label_width))\n",
    "        self.net = nn.ModuleList(layers)\n",
    "    \n",
    "    def forward(self, x):\n",
    "        for layer in self.net:\n",
    "#             print(layer, x.shape)\n",
    "#             import pdb; pdb.set_trace()\n",
    "            x = layer(x)\n",
    "        return x"
   ]
  },
  {
   "cell_type": "markdown",
   "metadata": {},
   "source": [
    "### Training the above model on the training set"
   ]
  },
  {
   "cell_type": "code",
   "execution_count": null,
   "metadata": {},
   "outputs": [],
   "source": [
    "model = TSA_many_to_many_conv(label_width, len(feature_columns), window_size)\n",
    "lr = 0.001\n",
    "wd = 0.0005\n",
    "optimizer = torch.optim.Adam(model.parameters(), lr=lr, weight_decay=wd)"
   ]
  },
  {
   "cell_type": "code",
   "execution_count": null,
   "metadata": {
    "scrolled": true
   },
   "outputs": [],
   "source": [
    "loss_vec = []\n",
    "reset_loss_every = 300\n",
    "n_epochs = 2\n",
    "device = \"cpu\"\n",
    "\n",
    "model.to(device)\n",
    "model.train()\n",
    "\n",
    "window_size = input_width + shift\n",
    "\n",
    "for epoch in range(n_epochs+1):\n",
    "    loss_epoch = 0\n",
    "    num_samples = 0\n",
    "\n",
    "    for it, (signal, past_labels, targets) in enumerate(trainloader):\n",
    "        optimizer.zero_grad()\n",
    "        signal_reshaped = signal.permute(0, 2, 1)  # Input to Cnov1d should be of size: (B, channels, length). \n",
    "        # Here channels is in fact number of features/regressors amd length is size of the signal passed into the conv.\n",
    "        output = model(signal_reshaped.float().to(device))\n",
    "        targets = targets.view(output.size()[0], -1).float().to(device)\n",
    "        loss = F.mse_loss(output, targets)\n",
    "        num_samples += output.size()[0]\n",
    "        loss_epoch += loss.item() * output.size()[0]\n",
    "        loss.backward()\n",
    "        optimizer.step()\n",
    "        \n",
    "        if (it % reset_loss_every) == 0:\n",
    "            print(f\"epoch: {epoch}, it: {it}, average_loss: {loss_epoch/num_samples}\")\n",
    "            loss_epoch = 0\n",
    "            num_samples = 0\n",
    "\n",
    "#     print(f\"epoch: {epoch}, num_samples: {num_samples}, average_loss: {loss_epoch / num_samples}\")\n",
    "\n",
    "    if (epoch % (n_epochs//2)) == 0 and epoch > 0:\n",
    "        lr *= 0.5\n",
    "        for param_group in optimizer.param_groups:\n",
    "            param_group['lr'] = lr\n",
    "\n",
    "# Save the model and weights\n",
    "checkpoint = {'model': model,\n",
    "              'state_dict': model.state_dict(),\n",
    "              'optimizer' : optimizer.state_dict()}\n",
    "torch.save(checkpoint, './weights/weights_many_to_many_conv.pth')"
   ]
  },
  {
   "cell_type": "markdown",
   "metadata": {},
   "source": [
    "### Evaluation on the validation set"
   ]
  },
  {
   "cell_type": "code",
   "execution_count": 20,
   "metadata": {},
   "outputs": [
    {
     "data": {
      "text/plain": [
       "876"
      ]
     },
     "execution_count": 20,
     "metadata": {},
     "output_type": "execute_result"
    }
   ],
   "source": [
    "time_Series_dataset_valid = TimeSeriesDatasetMature(val_df, input_width=input_width, label_width=label_width, \n",
    "                                              shift=shift, feature_columns=feature_columns,\n",
    "                                              label_columns=label_columns)\n",
    "validloader = DataLoader(time_Series_dataset_valid, batch_size=batch_size, shuffle=True)\n",
    "len(validloader)"
   ]
  },
  {
   "cell_type": "code",
   "execution_count": 40,
   "metadata": {},
   "outputs": [
    {
     "data": {
      "image/png": "[encoded data removed]",
      "text/plain": [
       "<Figure size 576x432 with 1 Axes>"
      ]
     },
     "metadata": {
      "needs_background": "light"
     },
     "output_type": "display_data"
    }
   ],
   "source": [
    "model.to(device)\n",
    "model.eval()\n",
    "\n",
    "window_size = input_width + shift\n",
    "\n",
    "for it, (signal, past_labels, targets) in enumerate(validloader):\n",
    "    signal_reshaped = signal.permute(0, 2, 1) \n",
    "    output = model(signal_reshaped.float().to(device))\n",
    "    targets = targets.view(output.size()[0], -1).float().to(device)\n",
    "    loss = F.mse_loss(output, targets)\n",
    "    num_samples += output.size()[0]\n",
    "    loss_epoch += loss.item() * output.size()[0]\n",
    "    \n",
    "    plt.plot(range(window_size - label_width, window_size), targets[0].view(-1).data.numpy(), \n",
    "         color='b', linestyle='dashed', label='target values in the future')  \n",
    "    plt.plot(range(window_size - label_width, window_size), output[0].view(-1).data.numpy(), \n",
    "         color='g', linestyle='dashed', label='forecast values in the future')\n",
    "    plt.legend();\n",
    "    break"
   ]
  },
  {
   "cell_type": "code",
   "execution_count": null,
   "metadata": {},
   "outputs": [],
   "source": []
  },
  {
   "cell_type": "markdown",
   "metadata": {},
   "source": [
    "## Many-to-Many model, taking into account the previous labels "
   ]
  },
  {
   "cell_type": "markdown",
   "metadata": {},
   "source": [
    "This model has two internal branches; net1 and net2. Net1 maps the features/regressors (with the time-length of window_size) into a feature encoding, whereas net2 encodes the previous labels that are observed up to the beginning of the forecast period (with the time-length of input_size). Net_out maps the concatenattion of these two branches into the output_layer."
   ]
  },
  {
   "cell_type": "code",
   "execution_count": 87,
   "metadata": {},
   "outputs": [],
   "source": [
    "class TSA_m2m_with_past_labels(nn.Module):\n",
    "    def __init__(self, label_width, in_channels, window_length, past_labels_length):\n",
    "        super().__init__()\n",
    "        layers1 = []\n",
    "        layers1.append(nn.Conv1d(in_channels=in_channels, out_channels=32, kernel_size=3, padding=1))\n",
    "        layers1.append(nn.ReLU6())\n",
    "        layers1.append(nn.BatchNorm1d(32))\n",
    "        layers1.append(nn.Dropout(0.1))\n",
    "        layers1.append(nn.Flatten(1))\n",
    "        layers1.append(nn.Linear(in_features=32*window_length, out_features=32))\n",
    "        self.net1 = nn.ModuleList(layers1)\n",
    "\n",
    "        layers2 = []\n",
    "        layers2.append(nn.Conv1d(in_channels=1, out_channels=32, kernel_size=3, padding=1))\n",
    "        layers2.append(nn.ReLU6())\n",
    "        layers2.append(nn.BatchNorm1d(32))\n",
    "        layers2.append(nn.Dropout(0.1))\n",
    "        layers2.append(nn.Flatten(1))\n",
    "        layers2.append(nn.Linear(in_features=32*past_labels_length, out_features=32))  \n",
    "        self.net2 = nn.ModuleList(layers2)\n",
    "        \n",
    "        layers3 = []\n",
    "        layers3.append(nn.ReLU6())\n",
    "        layers3.append(nn.BatchNorm1d(32+32))\n",
    "        layers3.append(nn.Dropout(0.1))\n",
    "        layers3.append(nn.Linear(in_features=64, out_features=label_width))\n",
    "        self.net_out = nn.ModuleList(layers3)\n",
    "    \n",
    "    def forward(self, x1, x2):\n",
    "        for layer in self.net1:\n",
    "            x1 = layer(x1)\n",
    "        for layer in self.net2:\n",
    "            x2 = layer(x2)\n",
    "        # Concatenate two branches\n",
    "        x = torch.cat((x1, x2), dim=1)\n",
    "        for layer in self.net_out:\n",
    "            x = layer(x)\n",
    "        return x"
   ]
  },
  {
   "cell_type": "code",
   "execution_count": 88,
   "metadata": {},
   "outputs": [],
   "source": [
    "model = TSA_m2m_with_past_labels(label_width, len(feature_columns), window_size, input_width)\n",
    "lr = 0.001\n",
    "wd = 0.0005\n",
    "optimizer = torch.optim.Adam(model.parameters(), lr=lr, weight_decay=wd)"
   ]
  },
  {
   "cell_type": "code",
   "execution_count": null,
   "metadata": {
    "scrolled": true
   },
   "outputs": [],
   "source": [
    "loss_vec = []\n",
    "reset_loss_every = 300\n",
    "n_epochs = 2\n",
    "device = \"cpu\"\n",
    "\n",
    "model.to(device)\n",
    "model.train()\n",
    "\n",
    "window_size = input_width + shift\n",
    "\n",
    "for epoch in range(n_epochs+1):\n",
    "    loss_epoch = 0\n",
    "    num_samples = 0\n",
    "\n",
    "    for it, (signal, past_labels, targets) in enumerate(trainloader):\n",
    "        optimizer.zero_grad()\n",
    "        # Input to Cnov1d should be of size: (B, channels, length). \n",
    "        # Here channels is in fact number of features/regressors \n",
    "        # and length is size of the signal passed into the conv.\n",
    "        signal_reshaped = signal.permute(0, 2, 1).float().to(device)  \n",
    "        past_labels_reshaped = past_labels.permute(0, 2, 1).float().to(device)\n",
    "        \n",
    "        output = model(signal_reshaped, past_labels_reshaped)\n",
    "        targets = targets.view(output.size()[0], -1).float().to(device)\n",
    "        loss = F.mse_loss(output, targets)\n",
    "        num_samples += output.size()[0]\n",
    "        loss_epoch += loss.item() * output.size()[0]\n",
    "        loss.backward()\n",
    "        optimizer.step()\n",
    "        \n",
    "        if (it % reset_loss_every) == 0:\n",
    "            print(f\"epoch: {epoch}, it: {it}, average_loss: {loss_epoch/num_samples}\")\n",
    "            loss_epoch = 0\n",
    "            num_samples = 0\n",
    "\n",
    "#     print(f\"epoch: {epoch}, num_samples: {num_samples}, average_loss: {loss_epoch / num_samples}\")\n",
    "\n",
    "    if (epoch % (n_epochs//2)) == 0 and epoch > 0:\n",
    "        lr *= 0.5\n",
    "        for param_group in optimizer.param_groups:\n",
    "            param_group['lr'] = lr\n",
    "\n",
    "# Save the model and weights\n",
    "checkpoint = {'model': model,\n",
    "              'state_dict': model.state_dict(),\n",
    "              'optimizer' : optimizer.state_dict()}\n",
    "torch.save(checkpoint, './weights/weights_many_to_many_conv.pth')"
   ]
  },
  {
   "cell_type": "markdown",
   "metadata": {},
   "source": [
    "### Evaluation on the validation set"
   ]
  },
  {
   "cell_type": "code",
   "execution_count": 66,
   "metadata": {},
   "outputs": [
    {
     "data": {
      "image/png": "[encoded data removed]",
      "text/plain": [
       "<Figure size 576x432 with 1 Axes>"
      ]
     },
     "metadata": {
      "needs_background": "light"
     },
     "output_type": "display_data"
    }
   ],
   "source": [
    "model.to(device)\n",
    "model.eval()\n",
    "\n",
    "for it, (signal, past_labels, targets) in enumerate(validloader):\n",
    "    signal_reshaped = signal.permute(0, 2, 1).float().to(device)  \n",
    "    past_labels_reshaped = past_labels.permute(0, 2, 1).float().to(device)\n",
    "        \n",
    "    output = model(signal_reshaped, past_labels_reshaped)\n",
    "    targets = targets.view(output.size()[0], -1).float().to(device)\n",
    "    loss = F.mse_loss(output, targets)\n",
    "    num_samples += output.size()[0]\n",
    "    loss_epoch += loss.item() * output.size()[0]\n",
    "    \n",
    "    plt.plot(range(window_size - label_width, window_size), targets[0].view(-1).data.numpy(), \n",
    "         color='b', linestyle='dashed', label='target values in the future')  \n",
    "    plt.plot(range(window_size - label_width, window_size), output[0].view(-1).data.numpy(), \n",
    "         color='g', linestyle='dashed', label='forecast values in the future')\n",
    "    plt.legend();\n",
    "    break"
   ]
  },
  {
   "cell_type": "code",
   "execution_count": null,
   "metadata": {},
   "outputs": [],
   "source": []
  },
  {
   "cell_type": "markdown",
   "metadata": {},
   "source": [
    "### Use LSTM for Many-to-Many mapping."
   ]
  },
  {
   "cell_type": "code",
   "execution_count": 127,
   "metadata": {},
   "outputs": [],
   "source": [
    "class TSA_m2m_LSTM(nn.Module):\n",
    "    def __init__(self, label_width, in_channels, window_length):\n",
    "        super().__init__()\n",
    "        layers1 = []\n",
    "        layers1.append(nn.Conv1d(in_channels=in_channels, out_channels=32, kernel_size=3, padding=1))\n",
    "        layers1.append(nn.ReLU6())\n",
    "        layers1.append(nn.BatchNorm1d(32))\n",
    "        layers1.append(nn.Dropout(0.1))\n",
    "        layers1.append(nn.LSTM(input_size=32, hidden_size=32, batch_first=True))\n",
    "        self.net1 = nn.ModuleList(layers1)\n",
    "        \n",
    "        layers3 = []\n",
    "        # Collapse all embeddings of the entire sequence (32 features for 12 time points) \n",
    "        # into one dense layer of 32*12 neurons:\n",
    "        layers3.append(nn.Flatten(1))  \n",
    "        layers3.append(nn.ReLU6())\n",
    "        layers3.append(nn.BatchNorm1d(32*window_length))\n",
    "        layers3.append(nn.Dropout(0.1))\n",
    "        layers3.append(nn.Linear(in_features=32*window_length, out_features=label_width))\n",
    "        self.net_out = nn.ModuleList(layers3)\n",
    "    \n",
    "    def forward(self, x1):\n",
    "        for layer in self.net1:\n",
    "            if layer._get_name() == \"LSTM\":\n",
    "                x1 = x1.permute(0, 2, 1)  # LSTM accepts inputs in form of B*seqlen*features.\n",
    "            x1 = layer(x1)\n",
    "        # The output of LSTM layer is something like this: output_Bx12x32, (hn_1x32x12, cn_1x32x12). \n",
    "        # We need the output_Bx12x32 as the final embedding of the the feature sequence to pass to the next dense layer.\n",
    "        x = x1[0]  \n",
    "        for layer in self.net_out:\n",
    "            x = layer(x)\n",
    "        return x"
   ]
  },
  {
   "cell_type": "code",
   "execution_count": 128,
   "metadata": {},
   "outputs": [],
   "source": [
    "model = TSA_m2m_LSTM(label_width, len(feature_columns), window_size)\n",
    "lr = 0.001\n",
    "wd = 0.0005\n",
    "optimizer = torch.optim.Adam(model.parameters(), lr=lr, weight_decay=wd)"
   ]
  },
  {
   "cell_type": "code",
   "execution_count": 129,
   "metadata": {
    "scrolled": false
   },
   "outputs": [
    {
     "name": "stdout",
     "output_type": "stream",
     "text": [
      "epoch: 0, it: 0, average_loss: 1.2174735069274902\n",
      "epoch: 0, it: 300, average_loss: 0.18506586487094562\n",
      "epoch: 0, it: 600, average_loss: 0.11809728806838393\n",
      "epoch: 0, it: 900, average_loss: 0.10213782937576374\n",
      "epoch: 0, it: 1200, average_loss: 0.09327967098603646\n",
      "epoch: 0, it: 1500, average_loss: 0.09076685955747962\n",
      "epoch: 0, it: 1800, average_loss: 0.07949375889264047\n",
      "epoch: 0, it: 2100, average_loss: 0.0785511305478091\n",
      "epoch: 0, it: 2400, average_loss: 0.08221932910382748\n",
      "epoch: 0, it: 2700, average_loss: 0.08957127016503363\n",
      "epoch: 0, it: 3000, average_loss: 0.0844271201081574\n",
      "epoch: 1, it: 0, average_loss: 0.043034423142671585\n",
      "epoch: 1, it: 300, average_loss: 0.08100344721848766\n",
      "epoch: 1, it: 600, average_loss: 0.08268629158070932\n",
      "epoch: 1, it: 900, average_loss: 0.08118311472081889\n",
      "epoch: 1, it: 1200, average_loss: 0.07496680709222953\n",
      "epoch: 1, it: 1500, average_loss: 0.07939845162133376\n",
      "epoch: 1, it: 1800, average_loss: 0.07459107227002582\n",
      "epoch: 1, it: 2100, average_loss: 0.0806641358261307\n",
      "epoch: 1, it: 2400, average_loss: 0.09050680658935259\n",
      "epoch: 1, it: 2700, average_loss: 0.07285764845088125\n",
      "epoch: 1, it: 3000, average_loss: 0.07509081854795416\n",
      "epoch: 2, it: 0, average_loss: 0.022005055099725723\n",
      "epoch: 2, it: 300, average_loss: 0.07665153255841384\n",
      "epoch: 2, it: 600, average_loss: 0.07845845182426274\n",
      "epoch: 2, it: 900, average_loss: 0.07187578082239876\n",
      "epoch: 2, it: 1200, average_loss: 0.08305888925213367\n",
      "epoch: 2, it: 1500, average_loss: 0.06962202597719927\n",
      "epoch: 2, it: 1800, average_loss: 0.06819528462210049\n",
      "epoch: 2, it: 2100, average_loss: 0.07101550662424415\n",
      "epoch: 2, it: 2400, average_loss: 0.07577599198635046\n",
      "epoch: 2, it: 2700, average_loss: 0.0641589777621751\n",
      "epoch: 2, it: 3000, average_loss: 0.07246682069730014\n"
     ]
    }
   ],
   "source": [
    "loss_vec = []\n",
    "reset_loss_every = 300\n",
    "n_epochs = 2\n",
    "device = \"cpu\"\n",
    "\n",
    "model.to(device)\n",
    "model.train()\n",
    "\n",
    "window_size = input_width + shift\n",
    "\n",
    "for epoch in range(n_epochs+1):\n",
    "    loss_epoch = 0\n",
    "    num_samples = 0\n",
    "\n",
    "    for it, (signal, past_labels, targets) in enumerate(trainloader):\n",
    "        optimizer.zero_grad()\n",
    "        # Input to Cnov1d should be of size: (B, channels, length). \n",
    "        # Here channels is in fact number of features/regressors \n",
    "        # and length is size of the signal passed into the conv.\n",
    "        signal_reshaped = signal.permute(0, 2, 1).float().to(device)  \n",
    "        past_labels_reshaped = past_labels.permute(0, 2, 1).float().to(device)\n",
    "        \n",
    "        output = model(signal_reshaped)\n",
    "        targets = targets.view(output.size()[0], -1).float().to(device)\n",
    "        loss = F.mse_loss(output, targets)\n",
    "        num_samples += output.size()[0]\n",
    "        loss_epoch += loss.item() * output.size()[0]\n",
    "        loss.backward()\n",
    "        optimizer.step()\n",
    "        \n",
    "        if (it % reset_loss_every) == 0:\n",
    "            print(f\"epoch: {epoch}, it: {it}, average_loss: {loss_epoch/num_samples}\")\n",
    "            loss_epoch = 0\n",
    "            num_samples = 0\n",
    "\n",
    "#     print(f\"epoch: {epoch}, num_samples: {num_samples}, average_loss: {loss_epoch / num_samples}\")\n",
    "\n",
    "    if (epoch % (n_epochs//2)) == 0 and epoch > 0:\n",
    "        lr *= 0.5\n",
    "        for param_group in optimizer.param_groups:\n",
    "            param_group['lr'] = lr\n",
    "\n",
    "# Save the model and weights\n",
    "checkpoint = {'model': model,\n",
    "              'state_dict': model.state_dict(),\n",
    "              'optimizer' : optimizer.state_dict()}\n",
    "torch.save(checkpoint, './weights/weights_many_to_many_conv.pth')"
   ]
  },
  {
   "cell_type": "markdown",
   "metadata": {},
   "source": [
    "### Evaluation on the validation set"
   ]
  },
  {
   "cell_type": "code",
   "execution_count": 130,
   "metadata": {},
   "outputs": [
    {
     "data": {
      "image/png": "[encoded data removed]",
      "text/plain": [
       "<Figure size 576x432 with 1 Axes>"
      ]
     },
     "metadata": {
      "needs_background": "light"
     },
     "output_type": "display_data"
    }
   ],
   "source": [
    "model.to(device)\n",
    "model.eval()\n",
    "\n",
    "for it, (signal, past_labels, targets) in enumerate(validloader):\n",
    "    signal_reshaped = signal.permute(0, 2, 1).float().to(device)  \n",
    "    past_labels_reshaped = past_labels.permute(0, 2, 1).float().to(device)\n",
    "        \n",
    "    output = model(signal_reshaped)\n",
    "    targets = targets.view(output.size()[0], -1).float().to(device)\n",
    "    loss = F.mse_loss(output, targets)\n",
    "    num_samples += output.size()[0]\n",
    "    loss_epoch += loss.item() * output.size()[0]\n",
    "    \n",
    "    plt.plot(range(window_size - label_width, window_size), targets[0].view(-1).data.numpy(), \n",
    "         color='b', linestyle='dashed', label='target values in the future')  \n",
    "    plt.plot(range(window_size - label_width, window_size), output[0].view(-1).data.numpy(), \n",
    "         color='g', linestyle='dashed', label='forecast values in the future')\n",
    "    plt.legend();\n",
    "    break"
   ]
  },
  {
   "cell_type": "code",
   "execution_count": null,
   "metadata": {},
   "outputs": [],
   "source": []
  },
  {
   "cell_type": "markdown",
   "metadata": {},
   "source": [
    "### Use AutoRegressive method"
   ]
  },
  {
   "cell_type": "code",
   "execution_count": null,
   "metadata": {},
   "outputs": [],
   "source": []
  },
  {
   "cell_type": "markdown",
   "metadata": {},
   "source": [
    "### Denser model with two layers of Conv1d"
   ]
  },
  {
   "cell_type": "code",
   "execution_count": null,
   "metadata": {},
   "outputs": [],
   "source": []
  },
  {
   "cell_type": "markdown",
   "metadata": {},
   "source": [
    "### Simultaneously forecast multiple signals"
   ]
  },
  {
   "cell_type": "markdown",
   "metadata": {},
   "source": [
    "Using https://louisenaud.github.io/time_series_prediction.html ?"
   ]
  },
  {
   "cell_type": "code",
   "execution_count": null,
   "metadata": {},
   "outputs": [],
   "source": []
  }
 ],
 "metadata": {
  "accelerator": "GPU",
  "colab": {
   "collapsed_sections": [],
   "name": "time_series.ipynb",
   "private_outputs": true,
   "provenance": [],
   "toc_visible": true
  },
  "kernelspec": {
   "display_name": "nlp",
   "language": "python",
   "name": "nlp"
  },
  "language_info": {
   "codemirror_mode": {
    "name": "ipython",
    "version": 3
   },
   "file_extension": ".py",
   "mimetype": "text/x-python",
   "name": "python",
   "nbconvert_exporter": "python",
   "pygments_lexer": "ipython3",
   "version": "3.6.9"
  }
 },
 "nbformat": 4,
 "nbformat_minor": 1
}
