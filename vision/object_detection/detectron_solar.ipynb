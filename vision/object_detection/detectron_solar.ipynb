{
 "cells": [
  {
   "cell_type": "markdown",
   "id": "c2c70062",
   "metadata": {},
   "source": [
    "# Solar Panel Detection using Mask RCNN"
   ]
  },
  {
   "cell_type": "code",
   "execution_count": null,
   "id": "f2897211",
   "metadata": {},
   "outputs": [],
   "source": [
    "# !pip install pyyaml==5.1\n",
    "# !pip install torch==1.9.0+cu102 torchvision==0.10.0+cu102 -f https://download.pytorch.org/whl/torch_stable.html\n",
    "\n",
    "# Install detectron2 that matches the above pytorch version\n",
    "# !pip install detectron2 -f https://dl.fbaipublicfiles.com/detectron2/wheels/cu102/torch1.9/index.html\n",
    "# exit(0)  # After installation, you need to \"restart runtime\" in Colab. This line can also restart runtime"
   ]
  },
  {
   "cell_type": "code",
   "execution_count": null,
   "id": "7af64b38",
   "metadata": {},
   "outputs": [],
   "source": [
    "# check pytorch installation: \n",
    "import torch, torchvision\n",
    "print(torch.__version__, torch.cuda.is_available())\n",
    "# assert torch.__version__.startswith(\"1.9\")   # please manually install torch 1.9 if Colab changes its default version"
   ]
  },
  {
   "cell_type": "code",
   "execution_count": null,
   "id": "3fa3a51f",
   "metadata": {},
   "outputs": [],
   "source": [
    "# Assumption: matplotlib, numpy, opencv are installed"
   ]
  },
  {
   "cell_type": "code",
   "execution_count": null,
   "id": "106d650f",
   "metadata": {},
   "outputs": [],
   "source": [
    "# Some basic setup:\n",
    "# Setup detectron2 logger\n",
    "import detectron2\n",
    "from detectron2.utils.logger import setup_logger\n",
    "setup_logger()\n",
    "\n",
    "# import some common libraries\n",
    "import matplotlib.pyplot as plt\n",
    "import numpy as np\n",
    "import os, json, cv2, random\n",
    "from PIL import Image\n",
    "# from google.colab.patches import cv2_imshow\n",
    "\n",
    "# import some common detectron2 utilities\n",
    "from detectron2 import model_zoo\n",
    "from detectron2.engine import DefaultPredictor\n",
    "from detectron2.config import get_cfg\n",
    "from detectron2.utils.visualizer import Visualizer\n",
    "from detectron2.data import MetadataCatalog, DatasetCatalog"
   ]
  },
  {
   "cell_type": "code",
   "execution_count": null,
   "id": "befa29a9",
   "metadata": {},
   "outputs": [],
   "source": [
    "img = Image.open('10sfg735670.tif')\n",
    "img = np.array(img)\n",
    "plt.imshow(img)\n",
    "plt.show()"
   ]
  },
  {
   "cell_type": "markdown",
   "id": "bd69aeec",
   "metadata": {},
   "source": [
    "#### An example ground truth bounding box"
   ]
  },
  {
   "cell_type": "code",
   "execution_count": null,
   "id": "f09ba591",
   "metadata": {},
   "outputs": [],
   "source": [
    "plt.imshow(img[570:608, 2000:2030, :])\n",
    "plt.show()"
   ]
  },
  {
   "cell_type": "markdown",
   "id": "6b3ed1bd",
   "metadata": {},
   "source": [
    "## Train on a custom dataset"
   ]
  },
  {
   "cell_type": "code",
   "execution_count": null,
   "id": "e34c352f",
   "metadata": {},
   "outputs": [],
   "source": [
    "# download, decompress the data\n",
    "labels = json.load(open('SolarArrayPolygons.json', 'r'))"
   ]
  },
  {
   "cell_type": "code",
   "execution_count": null,
   "id": "110a313e",
   "metadata": {},
   "outputs": [],
   "source": [
    "relevant_items = [item for item in labels['polygons'] if item['image_name'] == '10sfg735670']"
   ]
  },
  {
   "cell_type": "markdown",
   "id": "32cdf575",
   "metadata": {},
   "source": [
    "#### Register train/val/test datasets (converting arbitrary dataset formats to COCO format)"
   ]
  },
  {
   "cell_type": "code",
   "execution_count": null,
   "id": "4e373668",
   "metadata": {},
   "outputs": [],
   "source": [
    "# if your dataset is in COCO format, this cell can be replaced by the following three lines:\n",
    "# from detectron2.data.datasets import register_coco_instances\n",
    "# register_coco_instances(\"my_dataset_train\", {}, \"json_annotation_train.json\", \"path/to/image/dir\")\n",
    "# register_coco_instances(\"my_dataset_val\", {}, \"json_annotation_val.json\", \"path/to/image/dir\")\n",
    "\n",
    "from detectron2.structures import BoxMode\n",
    "\n",
    "def get_solar_dicts():\n",
    "    with open(\"SolarArrayPolygons.json\") as f:\n",
    "        imgs_anns = json.load(f)\n",
    "\n",
    "    dataset_dicts = []\n",
    "    filenames = ['10sfg735670']\n",
    "    \n",
    "    for filename in filenames:\n",
    "        record = {}\n",
    "        \n",
    "        img = Image.open(filename + '.tif')\n",
    "        img = np.array(img)\n",
    "        height, width = img.shape[:2]\n",
    "        \n",
    "        record[\"file_name\"] = filename + '.tif'\n",
    "        record[\"image_id\"] = 0\n",
    "        record[\"height\"] = height\n",
    "        record[\"width\"] = width\n",
    "        \n",
    "        relevant_items = [item for item in imgs_anns['polygons'] if item['image_name'] == filename]\n",
    "      \n",
    "        objs = []\n",
    "        for item in relevant_items:\n",
    "            vertices = item[\"polygon_vertices_pixels\"]\n",
    "            px = [vertex[0] for vertex in vertices]\n",
    "            py = [vertex[1] for vertex in vertices]\n",
    "            poly = [(x + 0.5, y + 0.5) for x, y in zip(px, py)]\n",
    "            poly = [p for x in poly for p in x]\n",
    "\n",
    "            obj = {\n",
    "                \"bbox\": [np.min(px), np.min(py), np.max(px), np.max(py)],\n",
    "                \"bbox_mode\": BoxMode.XYXY_ABS,\n",
    "                \"segmentation\": [poly],\n",
    "                \"category_id\": 0,  # only one single object class (solar)\n",
    "            }\n",
    "            objs.append(obj)\n",
    "        record[\"annotations\"] = objs\n",
    "        dataset_dicts.append(record)\n",
    "    return dataset_dicts\n",
    "\n",
    "for d in [\"train\"]:\n",
    "    DatasetCatalog.register(\"solar_\" + d, lambda d=d: get_solar_dicts())\n",
    "    MetadataCatalog.get(\"solar_\" + d).set(thing_classes=[\"solar\"])\n",
    "solar_metadata = MetadataCatalog.get(\"solar_train\")"
   ]
  },
  {
   "cell_type": "code",
   "execution_count": null,
   "id": "f309cc2b",
   "metadata": {},
   "outputs": [],
   "source": [
    "solar_metadata"
   ]
  },
  {
   "cell_type": "code",
   "execution_count": null,
   "id": "06efd9ef",
   "metadata": {},
   "outputs": [],
   "source": [
    "dataset_dicts = get_solar_dicts()\n",
    "for d in random.sample(dataset_dicts, 1):\n",
    "    visualizer = Visualizer(img, metadata=solar_metadata, scale=1)\n",
    "    out = visualizer.draw_dataset_dict(d)\n",
    "    print(out.get_image().shape)\n",
    "    fig, ax = plt.subplots(1, 1, figsize=(20, 20))\n",
    "    ax.imshow(out.get_image())\n",
    "    imgPIL = Image.fromarray(out.get_image())\n",
    "    imgPIL.size\n",
    "    imgPIL.save('sample_gt_output.tif')\n",
    "    plt.show()"
   ]
  },
  {
   "cell_type": "markdown",
   "id": "e39c60f6",
   "metadata": {},
   "source": [
    "## Training"
   ]
  },
  {
   "cell_type": "code",
   "execution_count": null,
   "id": "ab21975c",
   "metadata": {},
   "outputs": [],
   "source": [
    "from detectron2.engine import DefaultTrainer\n",
    "from detectron2.evaluation import COCOEvaluator\n",
    "from detectron2.data import build_detection_test_loader, build_detection_train_loader\n",
    "\n",
    "class CocoTrainer(DefaultTrainer):\n",
    "\n",
    "    @classmethod\n",
    "    def build_evaluator(cls, cfg, dataset_name, output_folder=None):\n",
    "        if output_folder is None:\n",
    "            os.makedirs(\"coco_eval\", exist_ok=True)\n",
    "            output_folder = \"coco_eval\"\n",
    "        return COCOEvaluator(dataset_name, cfg, False, output_folder)"
   ]
  },
  {
   "cell_type": "code",
   "execution_count": null,
   "id": "2c108d74",
   "metadata": {},
   "outputs": [],
   "source": [
    "from detectron2.engine import DefaultTrainer\n",
    "\n",
    "cfg = get_cfg()\n",
    "cfg.merge_from_file(model_zoo.get_config_file(\"COCO-InstanceSegmentation/mask_rcnn_R_50_FPN_3x.yaml\"))\n",
    "cfg.DATASETS.TRAIN = (\"solar_train\",)\n",
    "cfg.DATASETS.VAL = (\"solar_train\",)\n",
    "cfg.DATASETS.TEST = (\"solar_train\",)\n",
    "cfg.DATALOADER.NUM_WORKERS = 2\n",
    "cfg.MODEL.WEIGHTS = model_zoo.get_checkpoint_url(\"COCO-InstanceSegmentation/mask_rcnn_R_50_FPN_3x.yaml\")  # Let training initialize from model zoo\n",
    "cfg.SOLVER.IMS_PER_BATCH = 2\n",
    "cfg.SOLVER.BASE_LR = 0.0025  # pick a good LR\n",
    "cfg.SOLVER.MAX_ITER = 301    # 300 iterations seems good enough for this toy dataset; you will need to train longer for a practical dataset\n",
    "cfg.TEST.EVAL_PERIOD = 100\n",
    "cfg.SOLVER.STEPS = []        # do not decay learning rate\n",
    "cfg.MODEL.ROI_HEADS.BATCH_SIZE_PER_IMAGE = 128   # faster, and good enough for this toy dataset (default: 512)\n",
    "cfg.MODEL.ROI_HEADS.NUM_CLASSES = 1  # only has one class (solar). (see https://detectron2.readthedocs.io/tutorials/datasets.html#update-the-config-for-new-datasets)\n",
    "# NOTE: this config means the number of classes, but a few popular unofficial tutorials incorrect uses num_classes+1 here."
   ]
  },
  {
   "cell_type": "code",
   "execution_count": null,
   "id": "6e574c4c",
   "metadata": {},
   "outputs": [],
   "source": [
    "os.makedirs(cfg.OUTPUT_DIR, exist_ok=True)\n",
    "trainer = CocoTrainer(cfg) \n",
    "trainer.resume_or_load(resume=False)\n",
    "trainer.train()"
   ]
  },
  {
   "cell_type": "code",
   "execution_count": null,
   "id": "cd35efbf",
   "metadata": {},
   "outputs": [],
   "source": [
    "# # Look at training curves in tensorboard:\n",
    "# %load_ext tensorboard\n",
    "# %tensorboard --logdir output"
   ]
  },
  {
   "cell_type": "markdown",
   "id": "a0f66b74",
   "metadata": {},
   "source": [
    "## Inference/Evaluation"
   ]
  },
  {
   "cell_type": "code",
   "execution_count": null,
   "id": "8d810e14",
   "metadata": {},
   "outputs": [],
   "source": [
    "# Inference should use the config with parameters that are used in training\n",
    "# cfg now already contains everything we've set previously. We changed it a little bit for inference:\n",
    "cfg.DATASETS.TEST = (\"solar_train\",)\n",
    "cfg.DATASETS.VAL = (\"solar_train\",)\n",
    "cfg.MODEL.WEIGHTS = os.path.join(cfg.OUTPUT_DIR, \"model_final.pth\")  # path to the model we just trained\n",
    "cfg.MODEL.ROI_HEADS.SCORE_THRESH_TEST = 0.3   # set a custom testing threshold\n",
    "predictor = DefaultPredictor(cfg)"
   ]
  },
  {
   "cell_type": "code",
   "execution_count": null,
   "id": "ccc63116",
   "metadata": {},
   "outputs": [],
   "source": [
    "from detectron2.utils.visualizer import ColorMode\n",
    "dataset_dicts = get_solar_dicts()\n",
    "for d in random.sample(dataset_dicts, 1):\n",
    "    img = Image.open(d[\"file_name\"])\n",
    "    img = np.array(img)\n",
    "    outputs = predictor(img)  # format is documented at https://detectron2.readthedocs.io/tutorials/models.html#model-output-format\n",
    "    v = Visualizer(img,\n",
    "                   metadata=solar_metadata, \n",
    "                   scale=0.5, \n",
    "                   instance_mode=ColorMode.IMAGE_BW   # remove the colors of unsegmented pixels. This option is only available for segmentation models\n",
    "    )\n",
    "    out = v.draw_instance_predictions(outputs[\"instances\"].to(\"cpu\"))\n",
    "    plt.imshow(out.get_image())\n",
    "    plt.show()\n",
    "    print(outputs[\"instances\"].to(\"cpu\"))"
   ]
  },
  {
   "cell_type": "code",
   "execution_count": null,
   "id": "ab177192",
   "metadata": {},
   "outputs": [],
   "source": [
    "imgPIL = Image.fromarray(out.get_image())\n",
    "imgPIL.size\n",
    "imgPIL.save('sample_pred_output.tif')"
   ]
  }
 ],
 "metadata": {
  "kernelspec": {
   "display_name": "old_detectron",
   "language": "python",
   "name": "old_detectron"
  },
  "language_info": {
   "codemirror_mode": {
    "name": "ipython",
    "version": 3
   },
   "file_extension": ".py",
   "mimetype": "text/x-python",
   "name": "python",
   "nbconvert_exporter": "python",
   "pygments_lexer": "ipython3",
   "version": "3.8.10"
  }
 },
 "nbformat": 4,
 "nbformat_minor": 5
}
